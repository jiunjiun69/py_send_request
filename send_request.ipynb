{
 "cells": [
  {
   "cell_type": "code",
   "execution_count": 1,
   "id": "af5a7cd3-4f30-4c8f-970c-e9f3551c012e",
   "metadata": {},
   "outputs": [],
   "source": [
    "# import time\n",
    "import requests"
   ]
  },
  {
   "cell_type": "code",
   "execution_count": 2,
   "id": "bd4da00f-a1dd-498b-95d8-94524b8cd2b4",
   "metadata": {},
   "outputs": [],
   "source": [
    "# def send_request():\n",
    "#     # 發送請求\n",
    "#     print(\"執行請求\")\n",
    "\n",
    "def send_request():\n",
    "    headers = {\n",
    "        'Origin': 'http://fiddle.jshell.net',\n",
    "        # 'Accept-Encoding': 'gzip, deflate',\n",
    "        'Accept-Language': 'en-US,en;q=0.8',\n",
    "        'User-Agent': 'Mozilla/5.0 (Windows NT 10.0; Win64; x64) AppleWebKit/537.36 (KHTML, like Gecko) Chrome/115.0.0.0 Safari/537.36',\n",
    "        'Content-Type': 'application/x-www-form-urlencoded; charset=UTF-8',\n",
    "        'Accept': '*/*',\n",
    "        'Referer': 'http://fiddle.jshell.net/_display/',\n",
    "        'X-Requested-With': 'XMLHttpRequest',\n",
    "        'Connection': 'keep-alive',\n",
    "    }\n",
    "    \n",
    "    data = {\n",
    "        'msg1': 'wow',\n",
    "        'msg2': 'such',\n",
    "        'msg3': 'data',\n",
    "    }\n",
    "    \n",
    "    response = requests.post('http://fiddle.jshell.net/echo/html/', headers=headers, data=data)\n",
    "\n",
    "\n",
    "    if response.status_code == 200:\n",
    "        print(\"請求成功！\")\n",
    "        print(response.text)  # 若需要取得響應內容，可以使用response.text\n",
    "    else:\n",
    "        print(\"請求失敗，HTTP狀態碼:\", response.status_code)"
   ]
  },
  {
   "cell_type": "code",
   "execution_count": 3,
   "id": "02a3109f-2d1f-43e3-8894-db4a5dc4e98b",
   "metadata": {},
   "outputs": [],
   "source": [
    "def main_loop():\n",
    "    sum = 0\n",
    "    while True:\n",
    "        # current_time = time.localtime()\n",
    "        # 檢查是否已過 23:59:58\n",
    "        # if current_time.tm_hour == 23 and current_time.tm_min == 59 and current_time.tm_sec >= 58:\n",
    "\n",
    "        sum = sum + 1\n",
    "        print(sum, \"次\")\n",
    "        try:\n",
    "            send_request()\n",
    "        except:\n",
    "            print(\"發生錯誤\")\n",
    "        \n",
    "        \n",
    "        # # 延遲 100 毫秒\n",
    "        # time.sleep(0.1)\n",
    "\n",
    "# if __name__ == \"__main__\":\n",
    "#     main_loop()"
   ]
  },
  {
   "cell_type": "code",
   "execution_count": null,
   "id": "7610cf6c-12f7-4783-a41e-5faeab376e41",
   "metadata": {},
   "outputs": [],
   "source": []
  },
  {
   "cell_type": "code",
   "execution_count": null,
   "id": "15acd7fc-fa92-4dd7-a7b2-bed64675b652",
   "metadata": {},
   "outputs": [],
   "source": []
  },
  {
   "cell_type": "code",
   "execution_count": null,
   "id": "ce65c2f0-338a-42fe-8096-54f6e4ee9453",
   "metadata": {},
   "outputs": [
    {
     "name": "stdout",
     "output_type": "stream",
     "text": [
      "1 次\n",
      "請求成功！\n",
      "\n",
      "2 次\n",
      "請求成功！\n",
      "\n",
      "3 次\n",
      "請求成功！\n",
      "\n",
      "4 次\n",
      "請求成功！\n",
      "\n",
      "5 次\n",
      "請求成功！\n",
      "\n",
      "6 次\n",
      "請求成功！\n",
      "\n",
      "7 次\n"
     ]
    }
   ],
   "source": [
    "main_loop()"
   ]
  },
  {
   "cell_type": "code",
   "execution_count": null,
   "id": "3fe87cb8-7709-4130-a59e-0b8783f22d83",
   "metadata": {},
   "outputs": [],
   "source": []
  }
 ],
 "metadata": {
  "kernelspec": {
   "display_name": "Python 3 (ipykernel)",
   "language": "python",
   "name": "python3"
  },
  "language_info": {
   "codemirror_mode": {
    "name": "ipython",
    "version": 3
   },
   "file_extension": ".py",
   "mimetype": "text/x-python",
   "name": "python",
   "nbconvert_exporter": "python",
   "pygments_lexer": "ipython3",
   "version": "3.8.1"
  }
 },
 "nbformat": 4,
 "nbformat_minor": 5
}
